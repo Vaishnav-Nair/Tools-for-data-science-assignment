{
 "cells": [
  {
   "cell_type": "markdown",
   "id": "d6fb8ff7-115c-447c-a3f2-0c898ebacc9f",
   "metadata": {},
   "source": [
    "# Data Science Tools and Ecosystem\n",
    "**Objectives:**\n",
    "* List popular languages for Data Science\n",
    "* few examples of evaluating arithmetic expressions in Python\n",
    "* Some of the commonly used libraries used by Data Scientists"
   ]
  },
  {
   "cell_type": "markdown",
   "id": "a2413f6f-0d07-4e23-b12f-22b5dab16614",
   "metadata": {},
   "source": [
    "In this notebook, Data Science Tools and Ecosystem are summarized"
   ]
  },
  {
   "cell_type": "markdown",
   "id": "53fa6e21-df0f-4459-ae3d-5e1440eccd61",
   "metadata": {},
   "source": [
    "Some of the popular languages that Data Scientists use are:\n",
    "1. Python\n",
    "2. R\n",
    "3. Scala\n",
    "4. Julia"
   ]
  },
  {
   "cell_type": "markdown",
   "id": "55299709-533c-4489-af39-adabff8be3b7",
   "metadata": {},
   "source": [
    "Some of the commonly used libraries used by Data Scientists include:\n",
    "1. Numpy\n",
    "2. Pandas\n",
    "3. nltk"
   ]
  },
  {
   "cell_type": "markdown",
   "id": "fefdec2b-48ad-47f6-a6c8-7e8c60646d46",
   "metadata": {},
   "source": [
    "| Data Science Tools       |\r\n",
    "|--------------------------|\r\n",
    "| Jupyter Notebook         |\r\n",
    "| RStudio                  |\r\n",
    "| Apache Zeppelin          |\r\n"
   ]
  },
  {
   "cell_type": "markdown",
   "id": "2f6bb014-60ea-4f7a-b3cf-eb33e71d5f03",
   "metadata": {},
   "source": [
    "### Below are a few examples of evaluating arithmetic expressions in Python"
   ]
  },
  {
   "cell_type": "code",
   "execution_count": 1,
   "id": "c31a4912-9393-4443-9664-853ea7982d9d",
   "metadata": {},
   "outputs": [
    {
     "data": {
      "text/plain": [
       "17"
      ]
     },
     "execution_count": 1,
     "metadata": {},
     "output_type": "execute_result"
    }
   ],
   "source": [
    "#This a simple arithmetic expression to mutiply then add integers\n",
    "\n",
    "(3*4)+5"
   ]
  },
  {
   "cell_type": "code",
   "execution_count": 3,
   "id": "daee1acb-00fa-4753-86b5-e0bbd5210ab2",
   "metadata": {},
   "outputs": [
    {
     "name": "stdout",
     "output_type": "stream",
     "text": [
      "3.3333333333333335\n"
     ]
    }
   ],
   "source": [
    "#This will convert 200 minutes to hours by diving by 60\n",
    "\n",
    "minutes = 200\n",
    "hours = minutes/60\n",
    "print(hours)"
   ]
  },
  {
   "cell_type": "markdown",
   "id": "839e6ddf-712a-4377-aa1e-d48d73c3b501",
   "metadata": {},
   "source": [
    "## Author\n",
    "Vaishnav Nair"
   ]
  },
  {
   "cell_type": "code",
   "execution_count": null,
   "id": "3524197c-8988-4fa3-8046-d9638408b3a0",
   "metadata": {},
   "outputs": [],
   "source": []
  }
 ],
 "metadata": {
  "kernelspec": {
   "display_name": "Python 3 (ipykernel)",
   "language": "python",
   "name": "python3"
  },
  "language_info": {
   "codemirror_mode": {
    "name": "ipython",
    "version": 3
   },
   "file_extension": ".py",
   "mimetype": "text/x-python",
   "name": "python",
   "nbconvert_exporter": "python",
   "pygments_lexer": "ipython3",
   "version": "3.11.7"
  }
 },
 "nbformat": 4,
 "nbformat_minor": 5
}
